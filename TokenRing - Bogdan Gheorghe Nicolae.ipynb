{
 "cells": [
  {
   "cell_type": "code",
   "execution_count": 1,
   "metadata": {},
   "outputs": [],
   "source": [
    "class Token:\n",
    "\n",
    "    istoric = []\n",
    "    \n",
    "    def __init__(self,ipSursa = '0', ipDestinatie = '0', mesajTrimis = 'None', ajunsLaDestinatie = False ,liber = False ,istoric = []):\n",
    "        self.ipSursa = ipSursa\n",
    "        self.ipDestinatie = ipDestinatie\n",
    "        self.mesajTrimis = mesajTrimis\n",
    "        self.ajunsLaDestinatie = ajunsLaDestinatie\n",
    "        self.liber = liber\n",
    "        self.istoric = istoric\n",
    "\n",
    "    def setIpSursa(self, ipSursa):\n",
    "        self.ipSursa = ipSursa\n",
    "    \n",
    "    def setIpDestinatie(self, ipDestinatie):\n",
    "        self.ipDestinatie = ipDestinatie\n",
    "    \n",
    "    def setMesajTrimis(self, mesajTrimis):\n",
    "        self.mesajTrimis = mesajTrimis\n",
    "\n",
    "    def setAjunsLaDestinatie(self):\n",
    "        if(self.ajunsLaDestinatie == False):\n",
    "            self.ajunsLaDestinatie = True\n",
    "        else:\n",
    "            self.ajunsLaDestinatie = False\n",
    "\n",
    "    def setLiber(self):\n",
    "        if(self.liber == False):\n",
    "            self.liber = True\n",
    "        else:\n",
    "            self.liber = False\n",
    "\n",
    "    def addIstoric(self, ip): \n",
    "        self.istoric.append(ip)\n",
    "\n",
    "    def __str__(self):\n",
    "        return ( 'IPSursa: ' + self.ipSursa\n",
    "        + '\\nIPDestinatie: ' + self.ipDestinatie\n",
    "        + \"\\nMesaj Trimis: \" + self.mesajTrimis\n",
    "        + \"\\nA ajuns la destinatie: \" + str(self.ajunsLaDestinatie)\n",
    "        + \"\\nLiber: \" + str(self.liber)\n",
    "        + \"\\nIstoric: \" + str(self.istoric))\n",
    "\n",
    "    def removeAll(self):\n",
    "        self.ipSursa = '-'\n",
    "        self.ipDestinatie = '-'\n",
    "        self.mesajTrimis = '-'\n",
    "        self.ajunsLaDestinatie = False\n",
    "        self.liber = True\n",
    "        self.istoric = []\n",
    ""
   ]
  },
  {
   "cell_type": "code",
   "execution_count": 2,
   "metadata": {},
   "outputs": [],
   "source": [
    "def ceasornic(token, list, startPoint):\n",
    "    while token.liber is False:\n",
    "    \n",
    "        if startPoint == len(list):\n",
    "            startPoint = 0\n",
    "        \n",
    "        if token.ipDestinatie != list[startPoint]:\n",
    "            token.addIstoric(list[startPoint])\n",
    "        else:\n",
    "            print(\"Mesajul trimis este: \", token.mesajTrimis)\n",
    "            print()\n",
    "            token.setAjunsLaDestinatie()\n",
    "            token.addIstoric(list[startPoint])\n",
    "        \n",
    "        if token.ajunsLaDestinatie == True and token.ipSursa == list[startPoint]:\n",
    "            token.setLiber()\n",
    "            token.removeAll()\n",
    "\n",
    "        print('Calculatorul:', str(list[startPoint][-1]))\n",
    "        print(token)\n",
    "        print()\n",
    "        startPoint = startPoint + 1\n",
    "        "
   ]
  },
  {
   "cell_type": "code",
   "execution_count": 3,
   "metadata": {},
   "outputs": [],
   "source": [
    "def invers(token, list, startPoint):\n",
    "    while token.liber is False:\n",
    "    \n",
    "        if startPoint == -1:\n",
    "            startPoint = len(list)-1\n",
    "        \n",
    "        if token.ipDestinatie != list[startPoint]:\n",
    "            token.addIstoric(list[startPoint])\n",
    "        else:\n",
    "            print(\"Mesajul trimis este: \", token.mesajTrimis)\n",
    "            print()\n",
    "            token.setAjunsLaDestinatie()\n",
    "            token.addIstoric(list[startPoint])\n",
    "        \n",
    "        if token.ajunsLaDestinatie == True and token.ipSursa == list[startPoint]:\n",
    "            token.setLiber()\n",
    "            token.removeAll()\n",
    "\n",
    "        print('Calculatorul:', str(list[startPoint][-1]))\n",
    "        print(token)\n",
    "        print()\n",
    "        startPoint = startPoint - 1"
   ]
  },
  {
   "cell_type": "code",
   "execution_count": 4,
   "metadata": {},
   "outputs": [
    {
     "output_type": "stream",
     "name": "stdout",
     "text": "Cate calculatoare sa fie introduse?\n['192.168.0.1', '192.168.0.2', '192.168.0.3', '192.168.0.4', '192.168.0.5', '192.168.0.6']\n"
    }
   ],
   "source": [
    "ip = '192.168.0.'\n",
    "\n",
    "print(\"Cate calculatoare sa fie introduse?\")\n",
    "numbersOfPC = int(input())\n",
    "\n",
    "listOfPC = []\n",
    "\n",
    "for index in range(0,numbersOfPC):\n",
    "    newIp = ip + str(index+1)\n",
    "    listOfPC.append(newIp)\n",
    "\n",
    "print(listOfPC)"
   ]
  },
  {
   "cell_type": "code",
   "execution_count": 5,
   "metadata": {},
   "outputs": [
    {
     "output_type": "stream",
     "name": "stdout",
     "text": "De la ce calculator sa inceapa?\nLa ce calculator sa ajunga?\nS-a introdus un ip invalid!\n"
    },
    {
     "output_type": "error",
     "ename": "SystemExit",
     "evalue": "0",
     "traceback": [
      "An exception has occurred, use %tb to see the full traceback.\n",
      "\u001b[1;31mSystemExit\u001b[0m\u001b[1;31m:\u001b[0m 0\n"
     ]
    }
   ],
   "source": [
    "print(\"De la ce calculator sa inceapa?\")\n",
    "ipSursa = int(input())\n",
    "\n",
    "print(\"La ce calculator sa ajunga?\")\n",
    "ipDestinatie = int(input())\n",
    "\n",
    "if ipSursa == ipDestinatie or ipSursa > numbersOfPC or ipDestinatie > numbersOfPC or ipSursa < 1 or ipDestinatie < 1:\n",
    "    print(\"S-a introdus un ip invalid!\")\n",
    "    sys.exit(0)\n",
    "\n",
    "print(\"Ce mesaj sa se trimita?\")\n",
    "mesaj = input()\n",
    "\n",
    "ipSursa, ipDestinatie = ipSursa-1, ipDestinatie-1\n",
    "\n",
    "token = Token(ipSursa = listOfPC[ipSursa], ipDestinatie= listOfPC[ipDestinatie], mesajTrimis= mesaj)"
   ]
  },
  {
   "cell_type": "code",
   "execution_count": 6,
   "metadata": {},
   "outputs": [
    {
     "output_type": "stream",
     "name": "stdout",
     "text": "In ce sens sa mearga?\n1.Ceasornic.\n-1.Invers.\n\n"
    }
   ],
   "source": [
    "print(\"In ce sens sa mearga?\\n1.Ceasornic.\\n-1.Invers.\\n\")\n",
    "mers = int(input())"
   ]
  },
  {
   "cell_type": "code",
   "execution_count": 7,
   "metadata": {
    "tags": [
     "outputPrepend",
     "outputPrepend",
     "outputPrepend",
     "outputPrepend",
     "outputPrepend",
     "outputPrepend",
     "outputPrepend",
     "outputPrepend",
     "outputPrepend",
     "outputPrepend",
     "outputPrepend",
     "outputPrepend",
     "outputPrepend",
     "outputPrepend",
     "outputPrepend",
     "outputPrepend",
     "outputPrepend",
     "outputPrepend",
     "outputPrepend",
     "outputPrepend"
    ]
   },
   "outputs": [
    {
     "output_type": "error",
     "ename": "NameError",
     "evalue": "name 'token' is not defined",
     "traceback": [
      "\u001b[1;31m---------------------------------------------------------------------------\u001b[0m",
      "\u001b[1;31mNameError\u001b[0m                                 Traceback (most recent call last)",
      "\u001b[1;32m<ipython-input-7-e530444bbe46>\u001b[0m in \u001b[0;36m<module>\u001b[1;34m\u001b[0m\n\u001b[0;32m      2\u001b[0m     \u001b[0mceasornic\u001b[0m\u001b[1;33m(\u001b[0m\u001b[0mtoken\u001b[0m\u001b[1;33m,\u001b[0m\u001b[0mlistOfPC\u001b[0m\u001b[1;33m,\u001b[0m \u001b[0mipSursa\u001b[0m\u001b[1;33m)\u001b[0m\u001b[1;33m\u001b[0m\u001b[1;33m\u001b[0m\u001b[0m\n\u001b[0;32m      3\u001b[0m \u001b[1;32melse\u001b[0m\u001b[1;33m:\u001b[0m\u001b[1;33m\u001b[0m\u001b[1;33m\u001b[0m\u001b[0m\n\u001b[1;32m----> 4\u001b[1;33m     \u001b[0minvers\u001b[0m\u001b[1;33m(\u001b[0m\u001b[0mtoken\u001b[0m\u001b[1;33m,\u001b[0m\u001b[0mlistOfPC\u001b[0m\u001b[1;33m,\u001b[0m \u001b[0mipSursa\u001b[0m\u001b[1;33m)\u001b[0m\u001b[1;33m\u001b[0m\u001b[1;33m\u001b[0m\u001b[0m\n\u001b[0m",
      "\u001b[1;31mNameError\u001b[0m: name 'token' is not defined"
     ]
    }
   ],
   "source": [
    "if mers == 1:\n",
    "    ceasornic(token,listOfPC, ipSursa)\n",
    "else:\n",
    "    invers(token,listOfPC, ipSursa)"
   ]
  }
 ],
 "metadata": {
  "kernelspec": {
   "name": "python271764bitreteleconda7f0a45a4243549c88256c96fc2ec464e",
   "display_name": "Python 2.7.17 64-bit ('Retele': conda)"
  }
 },
 "nbformat": 4,
 "nbformat_minor": 4
}